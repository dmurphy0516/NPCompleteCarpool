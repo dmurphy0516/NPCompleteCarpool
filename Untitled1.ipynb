{
 "cells": [
  {
   "cell_type": "code",
   "execution_count": 63,
   "metadata": {
    "collapsed": false
   },
   "outputs": [
    {
     "name": "stdout",
     "output_type": "stream",
     "text": [
      "aaaaaaa\n",
      "abda\n",
      "adc\n",
      "bed\n",
      "bid\n",
      "echo\n",
      "echu\n",
      "it\n",
      "shasta\n",
      "tank\n",
      "tiger\n",
      "tinge\n",
      "tinker\n",
      "yes\n",
      "far\n",
      "zebra\n"
     ]
    }
   ],
   "source": [
    "import string\n",
    "Names = ['aaaaaaa','abda','adc','bed','bid','echo','echu','it','shasta','tank','tiger','tinge','tinker','yes','far','zebra']\n",
    "for ii in Names:\n",
    "    print ii"
   ]
  },
  {
   "cell_type": "code",
   "execution_count": 33,
   "metadata": {
    "collapsed": false
   },
   "outputs": [
    {
     "name": "stdout",
     "output_type": "stream",
     "text": [
      "{'y': set([]), 'x': set(['z']), 'z': set(['y'])}\n",
      "0\n",
      "{'y': set([]), 'x': set(['z']), 'z': set(['y'])}\n",
      "{'y': set([]), 'x': set(['y', 'z']), 'z': set(['y'])}\n",
      "1\n",
      "{'y': set([]), 'x': set(['y', 'z']), 'z': set(['y'])}\n",
      "2\n",
      "xzy\n"
     ]
    }
   ],
   "source": [
    "def answer(words):\n",
    "    import string\n",
    "    abt = dict([(ii,set([])) for ii in string.ascii_lowercase])\n",
    "    key = words[0][0]\n",
    "    seen=set()\n",
    "    everseen=set()\n",
    "    for ii in words:\n",
    "        if ii[0] not in seen:\n",
    "            for jj in seen:\n",
    "                abt[jj].update(ii[0])\n",
    "                everseen.update(ii[0])\n",
    "            seen.update(ii[0])\n",
    "\n",
    "    #print abt\n",
    "    ml = max([len(ii) for ii in words])\n",
    "    for L in range(2,ml+1):\n",
    "        valids = [ii for ii in words if len(ii)>=L]\n",
    "        key = valids[0][:L-1]\n",
    "        seen=set()\n",
    "        for ii in valids:\n",
    "            if (ii[:L-1]==key and (ii[L-1] not in seen)):\n",
    "                for jj in seen:\n",
    "                    abt[jj].update(ii[L-1])\n",
    "                seen.update(ii[L-1])\n",
    "                everseen.update(ii[L-1])\n",
    "            else:\n",
    "                key=ii[:(L-1)]\n",
    "                seen=set(ii[L-1])\n",
    "                everseen.update(ii[L-1])\n",
    "    D2 = { ii: abt[ii] for ii in everseen}\n",
    "    btm = set()\n",
    "    lst = []\n",
    "    total = len(everseen)\n",
    "    print D2\n",
    "    for ii in range(total):\n",
    "        print ii\n",
    "        lst += [ jj for jj,kk in D2.items() if len(kk)==ii ]\n",
    "        everseen.remove(lst[-1])\n",
    "        for jj in everseen:\n",
    "            print D2\n",
    "            D2[jj].update(lst[-1])\n",
    "    return string.join(lst[::-1],sep='')\n",
    "\n",
    "#Names = ['aaaaaaa','abda','adc','bed','bid','echo','echu','it','shasta','tank','tiger','tinge','tinker','yes','far','zebra']\n",
    "print answer(['z','yx','yz'])\n",
    "#print answer(['y','z','xy'])\n",
    "#print answer(['ba','ab','cb'])\n",
    "#print answer(['ba','ab','cb'])\n",
    "#print answer(Names)"
   ]
  },
  {
   "cell_type": "code",
   "execution_count": 4,
   "metadata": {
    "collapsed": false
   },
   "outputs": [
    {
     "name": "stdout",
     "output_type": "stream",
     "text": [
      "xzy\n",
      "yzx\n",
      "bac\n",
      "abeistgyfocdhknruz\n"
     ]
    }
   ],
   "source": [
    "Names = ['aaaaaaa','abda','adc','bed','bid','echo','echu','it','shasta','tank','tiger','tinge','tinker','yes','far','zebra']\n",
    "print answer(['z','yx','yz'])\n",
    "print answer(['y','z','xy'])\n",
    "print answer(['ba','ab','cb'])\n",
    "print answer(Names)"
   ]
  },
  {
   "cell_type": "code",
   "execution_count": 20,
   "metadata": {
    "collapsed": false
   },
   "outputs": [
    {
     "data": {
      "text/plain": [
       "['b']"
      ]
     },
     "execution_count": 20,
     "metadata": {},
     "output_type": "execute_result"
    }
   ],
   "source": [
    "ev = set(('a','c'))\n",
    "d1 = {'a':'d','b':'e','c':'f'}\n",
    "[ii for ii,jj in d1.items() if jj=='e' ]"
   ]
  },
  {
   "cell_type": "code",
   "execution_count": 24,
   "metadata": {
    "collapsed": false
   },
   "outputs": [
    {
     "data": {
      "text/plain": [
       "[2, 3]"
      ]
     },
     "execution_count": 24,
     "metadata": {},
     "output_type": "execute_result"
    }
   ],
   "source": [
    "ev = set(('a','c'))\n",
    "differs"
   ]
  },
  {
   "cell_type": "code",
   "execution_count": 8,
   "metadata": {
    "collapsed": false
   },
   "outputs": [
    {
     "data": {
      "text/plain": [
       "u'C:\\\\Users\\\\Dan\\\\Desktop\\\\Python\\\\Carpool'"
      ]
     },
     "execution_count": 8,
     "metadata": {},
     "output_type": "execute_result"
    }
   ],
   "source": [
    "    \n",
    "def answer(words):\n",
    "    #Alphabet dictionary, entrie contains all values that come later\n",
    "    \n",
    "    #helper fuction to update the list of 'seen' values\n",
    "    def unique(seq,L=0): \n",
    "        seen = {}\n",
    "        partials = {}\n",
    "        result = []\n",
    "        for item in seq:\n",
    "            if item in seen: continue\n",
    "            #[abt[ii[-1]].update(item[-1]) for ii in seen.keys() if ii[-1] in seen.keys()]\n",
    "            #[abt[ii[-1]].update(item[-1]) \n",
    "            seen[item] = 1\n",
    "            partials[item[:-1]] = 1\n",
    "            for ii in seen.keys():\n",
    "                #print 'hi',item, ii\n",
    "                if ii[:-1] in partials.keys():\n",
    "                    print ii[:-1], partials.keys(),ii[-1], 'should update'\n",
    "                    abt[ii[-1]].update(item[-1])\n",
    "            #print item\n",
    "            \n",
    "            result.append(item)\n",
    "        print seen, partials\n",
    "        return result\n",
    "    \n",
    "    ct = 0\n",
    "    #l0 = unique([ii[0] for ii in words])\n",
    "    print [ii[0:2] for ii in words]\n",
    "    l1 = unique([ii[0:2] for ii in words])\n",
    "    return abt\n",
    "    "
   ]
  }
 ],
 "metadata": {
  "kernelspec": {
   "display_name": "Python 2",
   "language": "python",
   "name": "python2"
  },
  "language_info": {
   "codemirror_mode": {
    "name": "ipython",
    "version": 2
   },
   "file_extension": ".py",
   "mimetype": "text/x-python",
   "name": "python",
   "nbconvert_exporter": "python",
   "pygments_lexer": "ipython2",
   "version": "2.7.11"
  }
 },
 "nbformat": 4,
 "nbformat_minor": 0
}
