{
 "cells": [
  {
   "cell_type": "code",
   "execution_count": 2,
   "metadata": {
    "collapsed": true
   },
   "outputs": [],
   "source": [
    "nmz = ['annie','bonnie','liz','abcdefg','vi']"
   ]
  },
  {
   "cell_type": "code",
   "execution_count": 3,
   "metadata": {
    "collapsed": false
   },
   "outputs": [],
   "source": [
    "def answer(names):\n",
    "    score = [sum([(ord(jj)-96)*26**9 for jj in ii]) for ii in names]\n",
    "    score2 = [sum([(ord(ii[jj])-96)*26**(8-jj) for jj in range(len(ii))]) for ii in names]\n",
    "    score = [score[ii]+score2[ii] for ii in range(len(score))]\n",
    "    pairs = zip(names, score)\n",
    "    partial = sorted(pairs, key=lambda x:x[1], reverse=True)\n",
    "    return [ii[0] for ii in partial]"
   ]
  },
  {
   "cell_type": "code",
   "execution_count": 4,
   "metadata": {
    "collapsed": false
   },
   "outputs": [
    {
     "name": "stdout",
     "output_type": "stream",
     "text": [
      "['bonnie', 'liz', 'annie', 'vi', 'abcdefg']\n"
     ]
    }
   ],
   "source": [
    "s = answer(nmz)\n",
    "print s"
   ]
  },
  {
   "cell_type": "code",
   "execution_count": 80,
   "metadata": {
    "collapsed": false
   },
   "outputs": [
    {
     "name": "stdout",
     "output_type": "stream",
     "text": [
      "[('annie', 'bonnie'), ('bonnie', 'liz'), ('liz', 'annie'), ('abcdefg', 'vi'), ('vi', 'abcdefg')]\n",
      "[('abcdefg', 'vi'), ('bonnie', 'liz'), ('annie', 'bonnie'), ('liz', 'annie'), ('vi', 'abcdefg')]\n",
      "['abcdefg', 'bonnie', 'annie', 'liz', 'vi']\n"
     ]
    }
   ],
   "source": []
  },
  {
   "cell_type": "markdown",
   "metadata": {},
   "source": [
    "[('annie', 233468658195968L), ('boffie', 233468658195968L), ('liz', 255186672911872L), ('abcdefg', 152026103011328L), ('vi', 168314614048256L)]\n",
    "[('liz', 255186672911872L), ('annie', 233468658195968L), ('boffie', 233468658195968L), ('vi', 168314614048256L), ('abcdefg', 152026103011328L)]"
   ]
  },
  {
   "cell_type": "code",
   "execution_count": 7,
   "metadata": {
    "collapsed": false
   },
   "outputs": [
    {
     "name": "stdout",
     "output_type": "stream",
     "text": [
      "['zzzzzz']\n"
     ]
    }
   ],
   "source": [
    "nerr = ['zzzzzz']\n"
   ]
  },
  {
   "cell_type": "code",
   "execution_count": 1,
   "metadata": {
    "collapsed": true
   },
   "outputs": [],
   "source": [
    "T1 = [[10, 14], [4, 18], [19, 20], [19, 20], [13, 20]]"
   ]
  },
  {
   "cell_type": "code",
   "execution_count": 42,
   "metadata": {
    "collapsed": false
   },
   "outputs": [
    {
     "data": {
      "text/plain": [
       "16"
      ]
     },
     "execution_count": 42,
     "metadata": {},
     "output_type": "execute_result"
    }
   ],
   "source": [
    "def answer(intervals):\n",
    "    T1 = sorted(intervals, key= lambda x: x[1])\n",
    "    T1 = sorted(T1, key= lambda x: x[0])\n",
    "    time = 0 \n",
    "    trig = -1\n",
    "    while ( (trig+1)<len(T1)):\n",
    "        trig +=1\n",
    "        st = T1[trig][0]\n",
    "        nd = T1[trig][1]\n",
    "        for ii, jj in enumerate(T1):\n",
    "            #print '\\n',ii,jj\n",
    "            if ( (jj[0]<=nd) and (jj[1]>=nd)):\n",
    "                #print 'Go'\n",
    "                nd = jj[1]\n",
    "                trig = ii\n",
    "\n",
    "        time += (nd-st)\n",
    "\n",
    "    return time\n"
   ]
  },
  {
   "cell_type": "code",
   "execution_count": 1,
   "metadata": {
    "collapsed": false
   },
   "outputs": [
    {
     "name": "stdout",
     "output_type": "stream",
     "text": [
      "[[4, 6], [4, 8], [10, 14], [13, 20], [19, 20], [19, 20], [22, 24], [23, 25]]\n"
     ]
    },
    {
     "data": {
      "text/plain": [
       "17"
      ]
     },
     "execution_count": 1,
     "metadata": {},
     "output_type": "execute_result"
    }
   ],
   "source": [
    "def answer(intervals):\n",
    "    T1 = sorted(intervals, key= lambda x: x[1])\n",
    "    T1 = sorted(T1, key= lambda x: x[0])\n",
    "    print T1\n",
    "    time = 0 \n",
    "    Delta = [0,0]\n",
    "    for ii in T1:\n",
    "        if (ii[0]>Delta[1]):\n",
    "            time += Delta[1]-Delta[0]\n",
    "            Delta = ii\n",
    "        \n",
    "        Delta[1] = ii[1] if (ii[1]>Delta[1]) else Delta[1]\n",
    "    \n",
    "    time += Delta[1]-Delta[0]\n",
    "    return time\n",
    "            \n",
    "    \n",
    "T = [[10, 14], [4, 8], [4,6], [19, 20], [19, 20], [13, 20],[22,24],[23,25]]\n",
    "answer(T)"
   ]
  },
  {
   "cell_type": "code",
   "execution_count": 109,
   "metadata": {
    "collapsed": false
   },
   "outputs": [
    {
     "name": "stdout",
     "output_type": "stream",
     "text": [
      "True True\n",
      "14\n",
      "31\n",
      "33\n",
      "36\n",
      "36\n",
      "36\n",
      "37\n",
      "37\n",
      "37\n"
     ]
    }
   ],
   "source": [
    "def answer(heights):\n",
    "    peak = heights.index(max(heights))\n",
    "    rights = heights[peak+1:]+[0]\n",
    "    lefts = heights[(peak-1)::-1]+[0]\n",
    "    L = False if (peak==0) else True\n",
    "    R = False if (peak==len(heights)-1) else True\n",
    "    ct = 0\n",
    "    ix = 0\n",
    "    water = 0\n",
    "    while (ix+1<len(lefts) and L and ct<10000):\n",
    "        uphill = heights[peak]\n",
    "        nix = lefts[ix+1:].index(max(lefts[ix+1:]))+ix+1\n",
    "        downhill = lefts[nix]\n",
    "        water += sum( [(downhill-ii)*( downhill-ii>0) for ii in lefts[ix:nix]]  )\n",
    "\n",
    "        ct += 1\n",
    "        ix=nix\n",
    "\n",
    "    ix = 0        \n",
    "    while (ix+1<len(rights) and R and ct<10000):\n",
    "        nix = rights[ix+1:].index(max(rights[ix+1:]))+ix+1\n",
    "        downhill = rights[nix]\n",
    "        water += sum( [(downhill-ii)*( downhill-ii>0) for ii in rights[ix:nix]]  )\n",
    "\n",
    "        ct += 1\n",
    "        ix=nix\n",
    "        \n",
    "    return water\n",
    "    \n",
    "            \n",
    "    \n",
    "T = [4,1, 4, 2, 5, 1, 2, 3, 1, 4, 2, 5, 1, 2, 3,2,4,4,6,1,2]\n",
    "print answer(T)\n",
    "#print T\n",
    "#print T[T.index(5)-1::-1]+[0],(T[T.index(5)+1:]+[0])"
   ]
  },
  {
   "cell_type": "code",
   "execution_count": 103,
   "metadata": {
    "collapsed": false
   },
   "outputs": [
    {
     "name": "stdout",
     "output_type": "stream",
     "text": [
      "2 5 2 4 1 5 4 3 5 2 4 1 5 4 3 4 2 2 _\n",
      "1 4 1 3 _ 4 3 2 4 1 3 _ 4 3 2 3 1 1 _\n",
      "_ 3 _ 2 _ 3 2 1 3 _ 2 _ 3 2 1 2 _ _ _\n",
      "_ 2 _ 1 _ 2 1 _ 2 _ 1 _ 2 1 _ 1 _ _ _\n",
      "_ 1 _ _ _ 1 _ _ 1 _ _ _ 1 _ _ _ _ _ _\n",
      "_ _ _ _ _ _ _ _ _ _ _ _ _ _ _ _ _ _ _\n",
      "4 1 4 2 5 1 2 3 1 4 2 5 1 2 3 2 4 4 6\n",
      "17\n"
     ]
    }
   ],
   "source": [
    "for ii in range(max(T)):\n",
    "    h = max(T)\n",
    "    th = h-ii\n",
    "    print ' '.join(['_'*(jj>=th)+str(th-jj)*(jj<th) for jj in T ])\n",
    "print ' '.join(map(str,(T)))\n",
    "print sum(map(int,['4', '3', '2', '4', '1', '3']))"
   ]
  },
  {
   "cell_type": "code",
   "execution_count": 187,
   "metadata": {
    "collapsed": false
   },
   "outputs": [
    {
     "name": "stdout",
     "output_type": "stream",
     "text": [
      "['ab', 'an', 'bo', 'li', 'vi']\n",
      "a ['a'] b should update\n",
      "a ['a'] b should update\n",
      "a ['a'] n should update\n",
      "a ['a', 'b'] b should update\n",
      "b ['a', 'b'] o should update\n",
      "a ['a', 'b'] n should update\n",
      "l ['a', 'b', 'l'] i should update\n",
      "a ['a', 'b', 'l'] b should update\n",
      "b ['a', 'b', 'l'] o should update\n",
      "a ['a', 'b', 'l'] n should update\n",
      "v ['a', 'b', 'l', 'v'] i should update\n",
      "l ['a', 'b', 'l', 'v'] i should update\n",
      "a ['a', 'b', 'l', 'v'] b should update\n",
      "b ['a', 'b', 'l', 'v'] o should update\n",
      "a ['a', 'b', 'l', 'v'] n should update\n",
      "{'vi': 1, 'li': 1, 'ab': 1, 'bo': 1, 'an': 1} {'a': 1, 'b': 1, 'l': 1, 'v': 1}\n"
     ]
    },
    {
     "data": {
      "text/plain": [
       "{'a': set(),\n",
       " 'b': {'b', 'i', 'n', 'o'},\n",
       " 'c': set(),\n",
       " 'd': set(),\n",
       " 'e': set(),\n",
       " 'f': set(),\n",
       " 'g': set(),\n",
       " 'h': set(),\n",
       " 'i': {'i'},\n",
       " 'j': set(),\n",
       " 'k': set(),\n",
       " 'l': set(),\n",
       " 'm': set(),\n",
       " 'n': {'i', 'n', 'o'},\n",
       " 'o': {'i', 'o'},\n",
       " 'p': set(),\n",
       " 'q': set(),\n",
       " 'r': set(),\n",
       " 's': set(),\n",
       " 't': set(),\n",
       " 'u': set(),\n",
       " 'v': set(),\n",
       " 'w': set(),\n",
       " 'x': set(),\n",
       " 'y': set(),\n",
       " 'z': set()}"
      ]
     },
     "execution_count": 187,
     "metadata": {},
     "output_type": "execute_result"
    }
   ],
   "source": [
    "import string\n",
    "nmz = ['abcdefg','annie','bonnie','liz','vi']\n",
    "\n",
    "\n",
    "\n",
    "    \n",
    "def answer(words):\n",
    "    #Alphabet dictionary, entrie contains all values that come later\n",
    "    abt = dict([(ii,set([])) for ii in string.ascii_lowercase])\n",
    "    #helper fuction to update the list of 'seen' values\n",
    "    def unique(seq,L=0): \n",
    "        seen = {}\n",
    "        partials = {}\n",
    "        result = []\n",
    "        for item in seq:\n",
    "            if item in seen: continue\n",
    "            #[abt[ii[-1]].update(item[-1]) for ii in seen.keys() if ii[-1] in seen.keys()]\n",
    "            #[abt[ii[-1]].update(item[-1]) \n",
    "            seen[item] = 1\n",
    "            partials[item[:-1]] = 1\n",
    "            for ii in seen.keys():\n",
    "                #print 'hi',item, ii\n",
    "                if ii[:-1] in partials.keys():\n",
    "                    print ii[:-1], partials.keys(),ii[-1], 'should update'\n",
    "                    abt[ii[-1]].update(item[-1])\n",
    "            #print item\n",
    "            \n",
    "            result.append(item)\n",
    "        print seen, partials\n",
    "        return result\n",
    "    \n",
    "    ct = 0\n",
    "    #l0 = unique([ii[0] for ii in words])\n",
    "    print [ii[0:2] for ii in words]\n",
    "    l1 = unique([ii[0:2] for ii in words])\n",
    "    return abt\n",
    "    \n",
    "answer(nmz)\n"
   ]
  },
  {
   "cell_type": "code",
   "execution_count": 154,
   "metadata": {
    "collapsed": false
   },
   "outputs": [
    {
     "data": {
      "text/plain": [
       "set"
      ]
     },
     "execution_count": 154,
     "metadata": {},
     "output_type": "execute_result"
    }
   ],
   "source": [
    "abt = dict([(ii,{}) for ii in string.ascii_lowercase])\n",
    "type(set([]))"
   ]
  },
  {
   "cell_type": "code",
   "execution_count": 142,
   "metadata": {
    "collapsed": false
   },
   "outputs": [
    {
     "name": "stdout",
     "output_type": "stream",
     "text": [
      "set(['a', 'h', 'b'])\n"
     ]
    },
    {
     "data": {
      "text/plain": [
       "['hi']"
      ]
     },
     "execution_count": 142,
     "metadata": {},
     "output_type": "execute_result"
    }
   ],
   "source": [
    "S = {'a','b'}\n",
    "S.update('h')\n",
    "print S\n",
    "S2 = {}\n",
    "S2['hi'] = 1\n",
    "S2.keys()"
   ]
  },
  {
   "cell_type": "code",
   "execution_count": 77,
   "metadata": {
    "collapsed": false
   },
   "outputs": [
    {
     "name": "stdout",
     "output_type": "stream",
     "text": [
      "8 0 1 0 1\n",
      "1 0 1 0 1\n",
      "9 1 1 0 1\n",
      "2 1 1 0 1\n",
      "5 1 2 1 2\n",
      "8 [9, [], [], 2, 1, 1]\n",
      "9 [5, [8], [], 1, 2, 1]\n",
      "2 [5, [1], [], 1, 2, 1]\n",
      "5 [[], [2, 1], [9, 8], 0, 4, 6]\n",
      "1 [2, [], [], 2, 1, 1]\n"
     ]
    }
   ],
   "source": [
    "from math import factorial as fact\n",
    "\n",
    "I1 = [5, 9, 7, 8, 6, 2, 1, 3, 10]\n",
    "I1 = [5, 9, 8, 2, 1]\n",
    "\n",
    "#entries: parent,smaller,larger,level,elements,options\n",
    "D = {ii:[[],[],[],[],[],[]] for ii in I1}\n",
    "D[I1[0]][1] = [kk for kk in I1 if kk<I1[0]] #smaller\n",
    "D[I1[0]][2] = [kk for kk in I1 if kk>I1[0]] #larger\n",
    "D[I1[0]][3] = 0\n",
    "if len(D[I1[0]][1])>0: \n",
    "    D[D[I1[0]][1][0]][0] = I1[0] #alerting children of parent \n",
    "    D[D[I1[0]][1][0]][3] = D[I1[0]][3]+1\n",
    "if len(D[I1[0]][2])>0: \n",
    "    D[D[I1[0]][2][0]][0] = I1[0] #alerting children of parent\n",
    "    D[D[I1[0]][2][0]][3] = D[I1[0]][3]+1\n",
    "\n",
    "for ii,jj in enumerate(I1[1:]):\n",
    "    Family = D[D[jj][0]][1] if D[jj][0]>jj else D[D[jj][0]][2]\n",
    "    lt = [kk for kk in Family if kk<jj]\n",
    "    gt = [kk for kk in Family if kk>jj]\n",
    "    #print jj, Family , lt, gt\n",
    "    D[jj][1] = lt\n",
    "    D[jj][2] = gt\n",
    "    if len(lt)>0:\n",
    "        D[lt[0]][0] = jj\n",
    "        D[lt[0]][3] = D[jj][3]+1\n",
    "    if len(gt)>0: \n",
    "        D[gt[0]][0] = jj\n",
    "        D[gt[0]][3] = D[jj][3]+1\n",
    "\n",
    "start = max([D[ii][3] for ii in I1])\n",
    "\n",
    "for ii in range(start,-1,-1):\n",
    "    for jj in [kk for kk in I1 if D[kk][3]==ii]:\n",
    "        l = D[D[jj][1][0]][5] if len(D[jj][1])>0 else 0\n",
    "        L = D[D[jj][1][0]][4] if len(D[jj][1])>0 else 1\n",
    "        r = D[D[jj][2][0]][5] if len(D[jj][2])>0 else 0\n",
    "        R = D[D[jj][2][0]][4] if len(D[jj][2])>0 else 1\n",
    "        print jj, l,L,r,R\n",
    "        D[jj][4] = L+R - 1*(l==0)*(r==0)\n",
    "        D[jj][5] = l*r*fact(L+R)/fact(L)/fact(R) + l*(r==0) + r*(l==0) + 1*(l==0)*(r==0)\n",
    "\n",
    "\n",
    "for ii in D.keys():\n",
    "    print ii,D[ii]\n",
    "#current = [ii for ii in L1 if (D[ii][1]==[] and D[ii][2]==[])]\n",
    "#print current"
   ]
  },
  {
   "cell_type": "code",
   "execution_count": 22,
   "metadata": {
    "collapsed": false
   },
   "outputs": [
    {
     "name": "stdout",
     "output_type": "stream",
     "text": [
      "1 0 1 0 1 1 1\n",
      "3 0 1 0 1 1 1\n",
      "5 0 1 0 1 1 1\n",
      "7 0 1 0 1 1 1\n",
      "2 1 1 1 1 2 2\n",
      "6 1 1 1 1 2 2\n",
      "4 2 3 2 3 80 6\n",
      "{1: [2, [], [], 2, 1, 1], 2: [4, [1], [3], 1, 3, 2], 3: [2, [], [], 2, 1, 1], 4: [[], [2, 1, 3], [6, 5, 7], 0, 7, 80], 5: [6, [], [], 2, 1, 1], 6: [4, [5], [7], 1, 3, 2], 7: [6, [], [], 2, 1, 1]}\n",
      "80\n"
     ]
    }
   ],
   "source": [
    "def answer(seq):\n",
    "    from math import factorial as fact\n",
    "    #assemble the tree with spaces for additional information\n",
    "    #entries: parent,smaller,larger,level,elements,options\n",
    "    I1 = seq\n",
    "    D = {ii:[[],[],[],[],[],[]] for ii in I1}\n",
    "    D[I1[0]][1] = [kk for kk in I1 if kk<I1[0]] #smaller\n",
    "    D[I1[0]][2] = [kk for kk in I1 if kk>I1[0]] #larger\n",
    "    D[I1[0]][3] = 0\n",
    "    if len(D[I1[0]][1])>0: \n",
    "        D[D[I1[0]][1][0]][0] = I1[0] #alerting children of parent \n",
    "        D[D[I1[0]][1][0]][3] = D[I1[0]][3]+1\n",
    "    if len(D[I1[0]][2])>0: \n",
    "        D[D[I1[0]][2][0]][0] = I1[0] #alerting children of parent\n",
    "        D[D[I1[0]][2][0]][3] = D[I1[0]][3]+1\n",
    "\n",
    "    for ii,jj in enumerate(I1[1:]):\n",
    "        Family = D[D[jj][0]][1] if D[jj][0]>jj else D[D[jj][0]][2]\n",
    "        lt = [kk for kk in Family if kk<jj]\n",
    "        gt = [kk for kk in Family if kk>jj]\n",
    "        #print jj, Family , lt, gt\n",
    "        D[jj][1] = lt\n",
    "        D[jj][2] = gt\n",
    "        if len(lt)>0:\n",
    "            D[lt[0]][0] = jj\n",
    "            D[lt[0]][3] = D[jj][3]+1\n",
    "        if len(gt)>0: \n",
    "            D[gt[0]][0] = jj\n",
    "            D[gt[0]][3] = D[jj][3]+1\n",
    "\n",
    "    start = max([D[ii][3] for ii in I1])\n",
    "    \n",
    "    #pass through in reverse order, counting the number of elements in each subtree\n",
    "    #and the number of valid permuations for the interleaving\n",
    "    for ii in range(start,-1,-1):\n",
    "        targets = [kk for kk in I1 if D[kk][3]==ii]\n",
    "        #print targets\n",
    "        for jj in targets:\n",
    "            l = D[D[jj][1][0]][5] if len(D[jj][1])>0 else 0 #arrangements\n",
    "            L = D[D[jj][1][0]][4] if len(D[jj][1])>0 else 1 #number \n",
    "            r = D[D[jj][2][0]][5] if len(D[jj][2])>0 else 0\n",
    "            R = D[D[jj][2][0]][4] if len(D[jj][2])>0 else 1\n",
    "\n",
    "            if (l==0 and r==0):\n",
    "                rt = 1\n",
    "                D[jj][4] = 1\n",
    "            elif (l==0 and r!=0):\n",
    "                rt = r\n",
    "                D[jj][4] = R+1\n",
    "            elif (l!=0 and r==0):\n",
    "                rt = l\n",
    "                D[jj][4] = L+1\n",
    "            else:\n",
    "                D[jj][4] = R+L+1\n",
    "                rt = l*r*fact(L+R)/fact(L)/fact(R)\n",
    "            #print jj,l,L,r,R,rt,(L+R - 1*(l==0)*(r==0))\n",
    "            D[jj][5] = rt \n",
    "    print D\n",
    "    \n",
    "    return str(rt)\n",
    "\n",
    "#\n",
    "#print answer([5, 9, 7, 8, 6, 2, 1, 3, 10])\n",
    "print answer([4,2,6,1,3,5,7])\n",
    "#print answer([10,5,20,7,15,30])\n",
    "#print answer([1,2,3,4,5,6,8,9,7])\n",
    "#print answer([5,2,3,1])"
   ]
  },
  {
   "cell_type": "code",
   "execution_count": 33,
   "metadata": {
    "collapsed": false
   },
   "outputs": [
    {
     "data": {
      "text/plain": [
       "'1'"
      ]
     },
     "execution_count": 33,
     "metadata": {},
     "output_type": "execute_result"
    }
   ],
   "source": []
  }
 ],
 "metadata": {
  "kernelspec": {
   "display_name": "Python 2",
   "language": "python",
   "name": "python2"
  },
  "language_info": {
   "codemirror_mode": {
    "name": "ipython",
    "version": 2
   },
   "file_extension": ".py",
   "mimetype": "text/x-python",
   "name": "python",
   "nbconvert_exporter": "python",
   "pygments_lexer": "ipython2",
   "version": "2.7.11"
  }
 },
 "nbformat": 4,
 "nbformat_minor": 0
}
